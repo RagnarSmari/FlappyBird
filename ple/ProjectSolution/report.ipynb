{
 "cells": [
  {
   "cell_type": "markdown",
   "metadata": {},
   "source": [
    "# Nature of the environment\n",
    "\n",
    "Since all values for the attributes are integers in some interval, for example the velocity of the bird is an interval \n",
    "between -8 and 10 the environment itself is finite.\n",
    "In the environment we have a state, the state represents the state of the bird within the game each frame.\n",
    "In each state we have total 4 values:\n",
    "* player_y -> The current y-position of the bird.\n",
    "* next_pipe_top_y -> The top y position of the next gap\n",
    "* next_pipe_dist_to_player -> The horizontal distance between bird and next pipe\n",
    "* player_vel -> The current vertical velocity\n",
    "\n",
    "The min and max values for each attribute in a state:\n",
    "* player_y: min=0, max=387\n",
    "* next_pipe_top_y: min=25, max=192\n",
    "* next_pipe_dist_to_player: min=0, max=283\n",
    "* playeR_vel: min=-8, max=10\n",
    "\n",
    "The total number of states we can have from these values is:\n",
    "* 388 * 168 * 284 * 19 = ***351 732 864 number of states.***\n",
    "\n",
    "This will heavily affect our training time so we can decrease the size by splitting each attribute (except the velocity) evenly into 15 intervals each.\n",
    "After these changes the total number of states we can have from these values is:\n",
    "* 15 * 15 * 15 * 15 * 19 = ***64 125 number of states.***\n",
    "\n",
    "There was one problem with this approach, the intial value for next_pipe_dist_to_player was bigger than window width(283 px). So we had to create one if statement, that if the value of the next_pipe_dist_to_player was bigger than the max(283px) it would be set to index 14.\n",
    "\n",
    "The game \n"
   ]
  },
  {
   "cell_type": "markdown",
   "metadata": {},
   "source": [
    "### Which algorithms could be used and why?\n",
    "\n",
    "### What possible challenges do they bring?\n",
    "\n",
    "1. algo 1\n",
    "Can be used for \n",
    "* Monte Carlo, because all states are known, its not very sensitive to intial values, The distance between the bird and the first pipe is large and when the bird has gone through the first pipe the distance between the bird and the first pipe is alot smaller than the intial distance between the bird and the first pipe. Itś also very simple. ***The challanges*** are that monte carlo has high variance, which could be bad in this case. Monte carlo must wait until end of episode before it starts to calculate the values. Could be slow. Heimild: https://towardsdatascience.com/monte-carlo-learning-b83f75233f92\n",
    "\n",
    "* Sarsa can be used since it´s a Temporal diffrence algroithm like Q-learning and they are often quicker than for example Monte Carlo . Blablabla\n",
    "The possible challanges are that you could get the infamous Deadly Triad issue.\n",
    "\n",
    "* Monte Carlo, because monte carlo is faster, stronger, smarter, just BETTER \\ -The Boys\n",
    "* "
   ]
  }
 ],
 "metadata": {
  "kernelspec": {
   "display_name": "Python 3.10.6 64-bit",
   "language": "python",
   "name": "python3"
  },
  "language_info": {
   "name": "python",
   "version": "3.10.6"
  },
  "orig_nbformat": 4,
  "vscode": {
   "interpreter": {
    "hash": "369f2c481f4da34e4445cda3fffd2e751bd1c4d706f27375911949ba6bb62e1c"
   }
  }
 },
 "nbformat": 4,
 "nbformat_minor": 2
}
